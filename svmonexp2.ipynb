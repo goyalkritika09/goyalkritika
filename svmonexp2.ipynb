{
 "cells": [
  {
   "cell_type": "code",
   "execution_count": 1,
   "metadata": {},
   "outputs": [
    {
     "name": "stdout",
     "output_type": "stream",
     "text": [
      "(21232, 41)\n",
      "(5309, 41)\n"
     ]
    }
   ],
   "source": [
    "# Importing the libraries\n",
    "import numpy as np\n",
    "import matplotlib.pyplot as plt\n",
    "import pandas as pd\n",
    "\n",
    "dataset = pd.read_csv(r'E:\\Acoustic\\Dataset\\Experiment2withalframes\\exp2cocatinatefilenew.csv') \n",
    "  \n",
    "# Import dataset \n",
    "df = pd.read_csv(r'E:\\Acoustic\\Dataset\\Experiment2withalframes\\exp2cocatinatefilenew.csv') \n",
    "  \n",
    "df['labels'].unique() \n",
    "\n",
    "# Import label encoder \n",
    "from sklearn import preprocessing \n",
    "  \n",
    "# label_encoder object knows how to understand word labels. \n",
    "label_encoder = preprocessing.LabelEncoder() \n",
    "  \n",
    "# Encode labels in column 'species'. \n",
    "df['labels']= label_encoder.fit_transform(df['labels']) \n",
    "  \n",
    "df['labels'].unique() \n",
    "df.drop(df.columns[df.columns.str.contains('unnamed',case = False)],axis = 1, inplace = True)\n",
    "#dataset1 = pd.read_csv('L_2048_T1_40.csv')\n",
    "X = df.iloc[:, :-1].values\n",
    "y = df.iloc[:, -1].values\n",
    "\n",
    "# Splitting the dataset into the Training set and Test set\n",
    "from sklearn.model_selection import train_test_split\n",
    "X_train, X_test, y_train, y_test = train_test_split(X, y, test_size = 0.2, random_state = 40)\n",
    "\n",
    "# Feature Scaling\n",
    "from sklearn.preprocessing import StandardScaler\n",
    "sc = StandardScaler()\n",
    "X_train = sc.fit_transform(X_train)\n",
    "X_test = sc.transform(X_test)\n",
    "print(X_train.shape)\n",
    "print(X_test.shape)\n",
    "\n"
   ]
  },
  {
   "cell_type": "code",
   "execution_count": 2,
   "metadata": {},
   "outputs": [
    {
     "name": "stderr",
     "output_type": "stream",
     "text": [
      "C:\\Users\\Kritika Goyal\\Anaconda3\\lib\\site-packages\\sklearn\\svm\\base.py:244: ConvergenceWarning: Solver terminated early (max_iter=1000).  Consider pre-processing your data with StandardScaler or MinMaxScaler.\n",
      "  % self.max_iter, ConvergenceWarning)\n"
     ]
    },
    {
     "name": "stdout",
     "output_type": "stream",
     "text": [
      "SVM model accuracy on training set: 0.3286077618688772\n",
      "SVM model accuracy on test set: 0.3328310416274251\n",
      "              precision    recall  f1-score   support\n",
      "\n",
      "           0       0.48      0.38      0.42      1376\n",
      "           1       0.16      0.16      0.16       661\n",
      "           2       0.18      0.15      0.16       668\n",
      "           3       0.23      0.23      0.23       706\n",
      "           4       0.28      0.46      0.35       808\n",
      "           5       0.51      0.47      0.49      1090\n",
      "\n",
      "   micro avg       0.33      0.33      0.33      5309\n",
      "   macro avg       0.31      0.31      0.30      5309\n",
      "weighted avg       0.35      0.33      0.33      5309\n",
      "\n",
      "[[516 227 213 247 138  35]\n",
      " [135 109  57 124 137  99]\n",
      " [122  89 100  91 166 100]\n",
      " [188 105 109 159  91  54]\n",
      " [ 69  76  49  47 373 194]\n",
      " [ 40  93  20  18 409 510]]\n"
     ]
    }
   ],
   "source": [
    "from sklearn import svm\n",
    "from sklearn import metrics\n",
    "\n",
    "clf = svm.SVC(kernel='linear',gamma='auto',C=1000,max_iter=1000)\n",
    "clf.fit(X_train, y_train)\n",
    "y_pred1= clf.predict(X_train)\n",
    "#y_pred2 = clf.predict(X_val)\n",
    "y_pred = clf.predict(X_test)\n",
    "\n",
    "print(\"SVM model accuracy on training set:\", metrics.accuracy_score(y_train, y_pred1))\n",
    "#print(\"SVM model accuracy on validation set:\", metrics.accuracy_score(y_val, y_pred2))\n",
    "print(\"SVM model accuracy on test set:\", metrics.accuracy_score(y_test, y_pred))\n",
    "print(metrics.classification_report(y_test, y_pred))\n",
    "print(metrics.confusion_matrix(y_test, y_pred))"
   ]
  },
  {
   "cell_type": "code",
   "execution_count": null,
   "metadata": {},
   "outputs": [],
   "source": []
  }
 ],
 "metadata": {
  "kernelspec": {
   "display_name": "Python 3",
   "language": "python",
   "name": "python3"
  },
  "language_info": {
   "codemirror_mode": {
    "name": "ipython",
    "version": 3
   },
   "file_extension": ".py",
   "mimetype": "text/x-python",
   "name": "python",
   "nbconvert_exporter": "python",
   "pygments_lexer": "ipython3",
   "version": "3.7.1"
  }
 },
 "nbformat": 4,
 "nbformat_minor": 2
}
