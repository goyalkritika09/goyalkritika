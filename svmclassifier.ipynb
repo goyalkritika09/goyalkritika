{
 "cells": [
  {
   "cell_type": "code",
   "execution_count": 4,
   "metadata": {},
   "outputs": [
    {
     "name": "stdout",
     "output_type": "stream",
     "text": [
      "(348, 41)\n",
      "(88, 41)\n"
     ]
    }
   ],
   "source": [
    "# Importing the libraries\n",
    "import numpy as np\n",
    "import matplotlib.pyplot as plt\n",
    "import pandas as pd\n",
    "\n",
    "dataset = pd.read_csv(r'C:\\Users\\Kritika Goyal\\Desktop\\cocatinatefilenew.csv') \n",
    "  \n",
    "# Import dataset \n",
    "df = pd.read_csv(r'C:\\Users\\Kritika Goyal\\Desktop\\cocatinatefilenew.csv') \n",
    "  \n",
    "df['labels'].unique() \n",
    "\n",
    "# Import label encoder \n",
    "from sklearn import preprocessing \n",
    "  \n",
    "# label_encoder object knows how to understand word labels. \n",
    "label_encoder = preprocessing.LabelEncoder() \n",
    "  \n",
    "# Encode labels in column 'species'. \n",
    "df['labels']= label_encoder.fit_transform(df['labels']) \n",
    "  \n",
    "df['labels'].unique() \n",
    "df.drop(df.columns[df.columns.str.contains('unnamed',case = False)],axis = 1, inplace = True)\n",
    "#dataset1 = pd.read_csv('L_2048_T1_40.csv')\n",
    "X = df.iloc[:, :-1].values\n",
    "y = df.iloc[:, -1].values\n",
    "\n",
    "# Splitting the dataset into the Training set and Test set\n",
    "from sklearn.model_selection import train_test_split\n",
    "X_train, X_test, y_train, y_test = train_test_split(X, y, test_size = 0.2, random_state = 40)\n",
    "\n",
    "# Feature Scaling\n",
    "from sklearn.preprocessing import StandardScaler\n",
    "sc = StandardScaler()\n",
    "X_train = sc.fit_transform(X_train)\n",
    "X_test = sc.transform(X_test)\n",
    "print(X_train.shape)\n",
    "print(X_test.shape)\n",
    "\n"
   ]
  },
  {
   "cell_type": "code",
   "execution_count": 5,
   "metadata": {},
   "outputs": [
    {
     "name": "stdout",
     "output_type": "stream",
     "text": [
      "SVM model accuracy on training set: 0.9942528735632183\n",
      "SVM model accuracy on test set: 0.7613636363636364\n",
      "              precision    recall  f1-score   support\n",
      "\n",
      "           0       0.74      0.87      0.80        23\n",
      "           1       0.64      0.78      0.70         9\n",
      "           2       0.75      0.75      0.75        16\n",
      "           3       0.75      0.56      0.64        16\n",
      "           4       0.82      0.69      0.75        13\n",
      "           5       0.91      0.91      0.91        11\n",
      "\n",
      "   micro avg       0.76      0.76      0.76        88\n",
      "   macro avg       0.77      0.76      0.76        88\n",
      "weighted avg       0.77      0.76      0.76        88\n",
      "\n",
      "[[20  0  1  2  0  0]\n",
      " [ 0  7  1  1  0  0]\n",
      " [ 2  0 12  0  1  1]\n",
      " [ 5  1  1  9  0  0]\n",
      " [ 0  3  1  0  9  0]\n",
      " [ 0  0  0  0  1 10]]\n"
     ]
    },
    {
     "name": "stderr",
     "output_type": "stream",
     "text": [
      "C:\\Users\\Kritika Goyal\\Anaconda3\\lib\\site-packages\\sklearn\\svm\\base.py:244: ConvergenceWarning: Solver terminated early (max_iter=1000).  Consider pre-processing your data with StandardScaler or MinMaxScaler.\n",
      "  % self.max_iter, ConvergenceWarning)\n"
     ]
    }
   ],
   "source": [
    "from sklearn import svm\n",
    "from sklearn import metrics\n",
    "\n",
    "clf = svm.SVC(kernel='linear',gamma='auto',C=1000,max_iter=1000)\n",
    "clf.fit(X_train, y_train)\n",
    "y_pred1= clf.predict(X_train)\n",
    "#y_pred2 = clf.predict(X_val)\n",
    "y_pred = clf.predict(X_test)\n",
    "\n",
    "print(\"SVM model accuracy on training set:\", metrics.accuracy_score(y_train, y_pred1))\n",
    "#print(\"SVM model accuracy on validation set:\", metrics.accuracy_score(y_val, y_pred2))\n",
    "print(\"SVM model accuracy on test set:\", metrics.accuracy_score(y_test, y_pred))\n",
    "print(metrics.classification_report(y_test, y_pred))\n",
    "print(metrics.confusion_matrix(y_test, y_pred))\n",
    "\n"
   ]
  },
  {
   "cell_type": "code",
   "execution_count": null,
   "metadata": {},
   "outputs": [],
   "source": []
  }
 ],
 "metadata": {
  "kernelspec": {
   "display_name": "Python 3",
   "language": "python",
   "name": "python3"
  },
  "language_info": {
   "codemirror_mode": {
    "name": "ipython",
    "version": 3
   },
   "file_extension": ".py",
   "mimetype": "text/x-python",
   "name": "python",
   "nbconvert_exporter": "python",
   "pygments_lexer": "ipython3",
   "version": "3.7.1"
  }
 },
 "nbformat": 4,
 "nbformat_minor": 2
}
