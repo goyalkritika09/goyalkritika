{
 "cells": [
  {
   "cell_type": "code",
   "execution_count": 1,
   "metadata": {},
   "outputs": [],
   "source": [
    "import librosa\n",
    "import glob2\n",
    "import numpy as np\n",
    "import pandas as pd\n",
    "\n",
    "CSVAnger = pd.read_csv(r'C:\\Users\\Kritika Goyal\\Desktop\\dataframefeaturesAnger.csv')\n",
    "CSVHappy= pd.read_csv(r'C:\\Users\\Kritika Goyal\\Desktop\\dataframefeaturesHappy.csv')\n",
    "CSVSad= pd.read_csv(r'C:\\Users\\Kritika Goyal\\Desktop\\dataframefeaturesSad.csv')\n",
    "CSVNeutral= pd.read_csv(r'C:\\Users\\Kritika Goyal\\Desktop\\dataframefeaturesNeutral.csv')\n",
    "CSVFear= pd.read_csv(r'C:\\Users\\Kritika Goyal\\Desktop\\dataframefeaturesFear.csv')\n",
    "CSVDisgust= pd.read_csv(r'C:\\Users\\Kritika Goyal\\Desktop\\dataframefeaturesDisgust.csv')\n",
    "\n",
    "df_all_rows = pd.concat([CSVAnger, CSVHappy,CSVSad,CSVNeutral,CSVFear,CSVDisgust])\n",
    "df_all_rows=df_all_rows.reset_index(drop=True)\n",
    "df_all_rows.drop(df_all_rows.columns[df_all_rows.columns.str.contains('unnamed',case = False)],axis = 1, inplace = True)\n",
    "df_all_rows.to_csv(r'C:\\Users\\Kritika Goyal\\Desktop\\cocatinatefilenew.csv')\n"
   ]
  },
  {
   "cell_type": "code",
   "execution_count": null,
   "metadata": {},
   "outputs": [],
   "source": []
  },
  {
   "cell_type": "code",
   "execution_count": null,
   "metadata": {},
   "outputs": [],
   "source": []
  }
 ],
 "metadata": {
  "kernelspec": {
   "display_name": "Python 3",
   "language": "python",
   "name": "python3"
  },
  "language_info": {
   "codemirror_mode": {
    "name": "ipython",
    "version": 3
   },
   "file_extension": ".py",
   "mimetype": "text/x-python",
   "name": "python",
   "nbconvert_exporter": "python",
   "pygments_lexer": "ipython3",
   "version": "3.7.1"
  }
 },
 "nbformat": 4,
 "nbformat_minor": 2
}
